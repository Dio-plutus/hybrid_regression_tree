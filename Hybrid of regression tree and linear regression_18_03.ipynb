{
 "cells": [
  {
   "cell_type": "code",
   "execution_count": 1,
   "metadata": {},
   "outputs": [],
   "source": [
    "from sklearn.datasets import load_digits\n",
    "\n",
    "# basic liraries\n",
    "import numpy as np\n",
    "import pandas as pd\n",
    "\n",
    "# plotting\n",
    "import matplotlib.pyplot as plt\n",
    "import plotly.plotly as py\n",
    "%matplotlib inline\n",
    "\n",
    "# sklearn\n",
    "from sklearn.preprocessing import StandardScaler\n",
    "from sklearn.tree import DecisionTreeClassifier\n",
    "from sklearn.linear_model import Lasso, LinearRegression \n",
    "from sklearn.tree import DecisionTreeRegressor\n",
    "from sklearn.ensemble import RandomForestRegressor, ExtraTreesRegressor\n",
    "from sklearn.pipeline import Pipeline\n",
    "from sklearn.model_selection import train_test_split, GridSearchCV, cross_val_predict, cross_val_score, cross_validate\n",
    "from sklearn.model_selection import learning_curve, train_test_split, KFold\n",
    "from sklearn.metrics import make_scorer, mean_squared_error\n",
    "\n",
    "from hybrid_linear_tree2 import *\n",
    "# from hybrid_tree import *\n",
    "from sklearn.ensemble import BaggingRegressor\n",
    "\n",
    "import os, re\n",
    "import time\n",
    "import pickle\n",
    "\n",
    "import warnings\n",
    "warnings.filterwarnings('ignore')"
   ]
  },
  {
   "cell_type": "markdown",
   "metadata": {},
   "source": [
    "## 0. Dataset (PIK Digital day)"
   ]
  },
  {
   "cell_type": "code",
   "execution_count": 2,
   "metadata": {},
   "outputs": [],
   "source": [
    "dataset_name = 'pik_train'"
   ]
  },
  {
   "cell_type": "code",
   "execution_count": 3,
   "metadata": {},
   "outputs": [],
   "source": [
    "df_pik = pd.read_csv(dataset_name + '.csv', encoding='cp1251')\n",
    "\n",
    "columns = [\n",
    "    'id', 'id_bulk', 'spalen', 'date1', 'start_square', 'value', 'price', \n",
    "    'mean_sq', 'mean_fl', 'plan_s', 'plan_m', 'plan_l', 'vid_0', 'vid_1', \n",
    "    'vid_2', 'month', 'month_cnt', 'class_objecta', 'kolichestvo_pomecheniy', \n",
    "    'ogorojena_territoriya', 'plochad_zemelnogo_uchastka', 'vhodnie_gruppi',\n",
    "    'detskiy_sad', 'school', 'hospital', 'fok', 'sportivnaya_plochadka',\n",
    "    'avtomoika', 'kladovie', 'kolyasochnie', 'kondei', 'ventilaciya', 'lift',\n",
    "    'sistema_musora_otvedeniya', 'videonabludenie', 'podzemnaiya_parkovka',\n",
    "    'dvor_bez_machin', 'machinomesta', 'plochad_promzoni_radius_500_m',\n",
    "    'plochad_zelenoy_zoni_radius_500_m', 'do_kremliya_km', 'do_ttk_km',\n",
    "    'do_sadovogo_km', 'do_bolchoy_dorogi_na_machine',\n",
    "    'do_udobnoy_avtorazviyazki_km', 'do_metro_pechkom_km', 'do_promki_km',\n",
    "    'do_parka_km', 'do_parka_pechkom_km','stanciy_metro_ot_kolca',\n",
    "    'plochad_dvora', 'kurs', 'stavka_po_ipoteke', 'vkladi_ot_1_goda',\n",
    "    'vkladi_ot_1do_3_let', 'vkladi_sviche_3_let'\n",
    "]\n",
    "df_pik.columns = columns\n",
    "\n",
    "# Ненужные или Нет в тестовых данных\n",
    "df_pik.drop(['id', 'sistema_musora_otvedeniya', 'start_square', 'plan_s', 'plan_m', 'plan_l', 'vid_0', 'vid_1', 'vid_2'], \n",
    "        axis=1, inplace=True)"
   ]
  },
  {
   "cell_type": "code",
   "execution_count": 4,
   "metadata": {},
   "outputs": [],
   "source": [
    "# convert string columns to binary\n",
    "\n",
    "df_pik['econom'] = 0\n",
    "df_pik['comfort'] = 0\n",
    "df_pik['standart'] = 0\n",
    "\n",
    "for index, row in df_pik.iterrows():\n",
    "    class_obj = row['class_objecta']\n",
    "    if class_obj == 'комфорт':\n",
    "        df_pik.loc[index, 'comfort'] = 1\n",
    "    elif class_obj == 'эконом':\n",
    "        df_pik.loc[index, 'econom'] = 1\n",
    "    else:\n",
    "        df_pik.loc[index, 'standart'] = 1\n",
    "\n",
    "\n",
    "# 2. Заменим \"да\" и \"нет\" на 1 и 0 соответсвенно в столбцах ogorojena_territoriya, avtomoika, kladovie, \n",
    "# kolyasochnie, podzemnaiya_parkovka, dvor_bez_machin, sportivnaya_plochadka и vhodnie_gruppi.\n",
    "\n",
    "for col in ['ogorojena_territoriya', 'avtomoika', 'kladovie'\\\n",
    "            ,'kolyasochnie', 'podzemnaiya_parkovka', 'dvor_bez_machin', 'sportivnaya_plochadka', 'vhodnie_gruppi']:\n",
    "    df_pik[col] = df_pik[col].apply(lambda elem: 1 if elem == 'да' else 0)\n",
    "\n",
    "df_pik.drop('class_objecta', axis = 1, inplace = True)\n",
    "\n",
    "df_pik.set_index(['date1', 'id_bulk'], inplace = True)"
   ]
  },
  {
   "cell_type": "code",
   "execution_count": 5,
   "metadata": {},
   "outputs": [],
   "source": [
    "X = df_pik.drop('value', axis = 1)\n",
    "y = df_pik['value']"
   ]
  },
  {
   "cell_type": "code",
   "execution_count": 6,
   "metadata": {},
   "outputs": [
    {
     "data": {
      "text/plain": [
       "(8726, 46)"
      ]
     },
     "execution_count": 6,
     "metadata": {},
     "output_type": "execute_result"
    }
   ],
   "source": [
    "X.shape"
   ]
  },
  {
   "cell_type": "markdown",
   "metadata": {},
   "source": [
    "## 1. Pipeline"
   ]
  },
  {
   "cell_type": "markdown",
   "metadata": {},
   "source": [
    "### 1.1 Lasso"
   ]
  },
  {
   "cell_type": "code",
   "execution_count": 47,
   "metadata": {},
   "outputs": [
    {
     "name": "stdout",
     "output_type": "stream",
     "text": [
      "train MSE: 109941.22 +/- 3745.85\n",
      "CV MSE: 111229.38 +/- 15783.3\n",
      "{'model__alpha': 1}\n",
      "time: 0.05 min\n"
     ]
    }
   ],
   "source": [
    "start_time = time.time()\n",
    "cv = KFold(n_splits = 5, shuffle = True, random_state = 42)  # лучше cv = 10\n",
    "\n",
    "scl = StandardScaler(with_mean = True, with_std = True)\n",
    "model = Lasso(max_iter = 5000, tol = 1e-3, random_state= 42)\n",
    "\n",
    "pipe = Pipeline(\n",
    "    steps = [\n",
    "         ('scl', scl),\n",
    "         ('model', model)\n",
    "    ]\n",
    ")\n",
    "\n",
    "param_grid = { \n",
    "    'model__alpha': [1, 5, 10]\n",
    "}\n",
    "\n",
    "gs_lasso = GridSearchCV(\n",
    "    pipe, \n",
    "    param_grid,\n",
    "    cv = cv,\n",
    "    scoring = 'neg_mean_squared_error'\n",
    ")\n",
    "\n",
    "gs_lasso.fit(X, y)\n",
    "\n",
    "train_MSE = (-gs_lasso.cv_results_['mean_train_score'][gs_lasso.cv_results_['rank_test_score'] == 1]).mean()\n",
    "train_std = (gs_lasso.cv_results_['std_train_score'][gs_lasso.cv_results_['rank_test_score'] == 1]).mean()\n",
    "\n",
    "cv_MSE = (-gs_lasso.cv_results_['mean_test_score'][gs_lasso.cv_results_['rank_test_score'] == 1]).mean()\n",
    "cv_std = (gs_lasso.cv_results_['std_test_score'][gs_lasso.cv_results_['rank_test_score'] == 1]).mean()\n",
    "\n",
    "print('train MSE: {} +/- {}'.format(np.round(train_MSE, 2), np.round(train_std, 2)))\n",
    "print('CV MSE: {} +/- {}'.format(np.round(cv_MSE, 2), np.round(cv_std, 2)))\n",
    "print(gs_lasso.best_params_)\n",
    "print('time: {} min'.format(np.round((time.time() - start_time)/60, 2))) \n",
    "\n",
    "filename = dataset_name + '_Lasso.sav'\n",
    "pickle.dump(gs_lasso, open(filename, 'wb'))"
   ]
  },
  {
   "cell_type": "markdown",
   "metadata": {},
   "source": [
    "### 1.2 Decision Tree"
   ]
  },
  {
   "cell_type": "code",
   "execution_count": 48,
   "metadata": {},
   "outputs": [
    {
     "name": "stdout",
     "output_type": "stream",
     "text": [
      "train MSE: 19271.28 +/- 879.54\n",
      "CV MSE: 93506.16 +/- 14661.06\n",
      "{'max_depth': 30, 'min_impurity_decrease': 3, 'min_samples_leaf': 3}\n",
      "time :0.03 min\n"
     ]
    }
   ],
   "source": [
    "start_time = time.time()\n",
    "\n",
    "model = DecisionTreeRegressor(criterion='mse', random_state = 42)\n",
    "\n",
    "cv = KFold(n_splits = 5, shuffle = True, random_state = 42)  # лучше cv = 10\n",
    "param_grid = {\n",
    "    'max_depth': [30, 40, 50],\n",
    "    'min_samples_leaf': [3],  # Минимальное число наблюдений в листе\n",
    "    'min_impurity_decrease' : [3],  # Минимальный прирост MSE при разделении в вершине на 2 ветки\n",
    "}\n",
    "gs_tree = GridSearchCV(model, param_grid, cv = cv, scoring = 'neg_mean_squared_error')\n",
    "gs_tree.fit(X, y)\n",
    "\n",
    "train_MSE = (-gs_tree.cv_results_['mean_train_score'][gs_tree.cv_results_['rank_test_score'] == 1]).mean()\n",
    "train_std = (gs_tree.cv_results_['std_train_score'][gs_tree.cv_results_['rank_test_score'] == 1]).mean()\n",
    "\n",
    "cv_MSE = (-gs_tree.cv_results_['mean_test_score'][gs_tree.cv_results_['rank_test_score'] == 1]).mean()\n",
    "cv_std = (gs_tree.cv_results_['std_test_score'][gs_tree.cv_results_['rank_test_score'] == 1]).mean()\n",
    "\n",
    "print('train MSE: {} +/- {}'.format(np.round(train_MSE, 2), np.round(train_std, 2)))\n",
    "print('CV MSE: {} +/- {}'.format(np.round(cv_MSE, 2), np.round(cv_std, 2)))\n",
    "print(gs_tree.best_params_)\n",
    "print('time :{} min'.format(np.round((time.time() - start_time)/60, 2))) \n",
    "\n",
    "filename = dataset_name + '_DecisionTree.sav'\n",
    "pickle.dump(gs_tree, open(filename, 'wb'))"
   ]
  },
  {
   "cell_type": "markdown",
   "metadata": {},
   "source": [
    "### 1.3 Random Forest"
   ]
  },
  {
   "cell_type": "code",
   "execution_count": 49,
   "metadata": {},
   "outputs": [
    {
     "name": "stdout",
     "output_type": "stream",
     "text": [
      "train RMSE: 23616.16 +/- 877.3\n",
      "CV RMSE: 59241.94 +/- 9051.58\n",
      "{'max_depth': 30, 'max_features': 0.7, 'min_impurity_decrease': 3, 'min_samples_leaf': 3, 'n_estimators': 100}\n",
      "time :1.16 min\n"
     ]
    }
   ],
   "source": [
    "start_time = time.time()\n",
    "\n",
    "model = RandomForestRegressor(criterion='mse', random_state = 42)\n",
    "\n",
    "cv = KFold(n_splits = 5, shuffle = True, random_state = 42)  # лучше cv = 10\n",
    "param_grid = {\n",
    "    'n_estimators': [100],\n",
    "    'max_depth': [20, 30],\n",
    "    'min_samples_leaf': [3],  # Минимальное число наблюдений в листе\n",
    "    'min_impurity_decrease' : [3],  # Минимальный прирост MSE при разделении в вершине на 2 ветки\n",
    "    'max_features': [0.7]  # 1, 0.7 - доля от всех фичей\n",
    "}\n",
    "gs_rf = GridSearchCV(model, param_grid, cv = cv, scoring = 'neg_mean_squared_error')\n",
    "gs_rf.fit(X, y)\n",
    "\n",
    "train_MSE = (-gs_rf.cv_results_['mean_train_score'][gs_rf.cv_results_['rank_test_score'] == 1]).mean()\n",
    "train_std = (gs_rf.cv_results_['std_train_score'][gs_rf.cv_results_['rank_test_score'] == 1]).mean()\n",
    "\n",
    "cv_MSE = (-gs_rf.cv_results_['mean_test_score'][gs_rf.cv_results_['rank_test_score'] == 1]).mean()\n",
    "cv_std = (gs_rf.cv_results_['std_test_score'][gs_rf.cv_results_['rank_test_score'] == 1]).mean()\n",
    "\n",
    "print('train RMSE: {} +/- {}'.format(np.round(train_MSE, 2), np.round(train_std, 2)))\n",
    "print('CV RMSE: {} +/- {}'.format(np.round(cv_MSE, 2), np.round(cv_std, 2)))\n",
    "print(gs_rf.best_params_)\n",
    "print('time :{} min'.format(np.round((time.time() - start_time)/60, 2))) \n",
    "\n",
    "filename = dataset_name + '_RF.sav'\n",
    "pickle.dump(gs_rf, open(filename, 'wb'))"
   ]
  },
  {
   "cell_type": "markdown",
   "metadata": {},
   "source": [
    "### 1.4  ExtraTreeRegressor"
   ]
  },
  {
   "cell_type": "code",
   "execution_count": 50,
   "metadata": {},
   "outputs": [
    {
     "name": "stdout",
     "output_type": "stream",
     "text": [
      "train MSE: 19856.22 +/- 986.25\n",
      "CV MSE: 56203.49 +/- 6918.45\n",
      "{'max_depth': 30, 'max_features': 0.7, 'min_impurity_decrease': 3, 'min_samples_leaf': 3, 'n_estimators': 100}\n",
      "time :0.51 min\n"
     ]
    }
   ],
   "source": [
    "start_time = time.time()\n",
    "\n",
    "model = ExtraTreesRegressor(criterion='mse',\n",
    "                              random_state = 42)\n",
    "\n",
    "cv = KFold(n_splits = 5, shuffle = True, random_state = 42)  # лучше cv = 10\n",
    "param_grid = {\n",
    "             'n_estimators': [100],\n",
    "             'max_depth': [20, 30],\n",
    "             'min_samples_leaf': [3],  # Минимальное число наблюдений в листе\n",
    "             'min_impurity_decrease' : [3],  # Минимальный прирост MSE при разделении в вершине на 2 ветки\n",
    "             'max_features': [0.7]  # 1, 0.7 - доля от всех фичей\n",
    "             }\n",
    "gs_etr = GridSearchCV(model, param_grid,\n",
    "                 cv = cv,\n",
    "                 scoring = 'neg_mean_squared_error')\n",
    "gs_etr.fit(X, y)\n",
    "\n",
    "train_MSE = (-gs_etr.cv_results_['mean_train_score'][gs_etr.cv_results_['rank_test_score'] == 1]).mean()\n",
    "train_std = (gs_etr.cv_results_['std_train_score'][gs_etr.cv_results_['rank_test_score'] == 1]).mean()\n",
    "\n",
    "cv_MSE = (-gs_etr.cv_results_['mean_test_score'][gs_etr.cv_results_['rank_test_score'] == 1]).mean()\n",
    "cv_std = (gs_etr.cv_results_['std_test_score'][gs_etr.cv_results_['rank_test_score'] == 1]).mean()\n",
    "\n",
    "print('train MSE: {} +/- {}'.format(np.round(train_MSE, 2), np.round(train_std, 2)))\n",
    "print('CV MSE: {} +/- {}'.format(np.round(cv_MSE, 2), np.round(cv_std, 2)))\n",
    "print(gs_etr.best_params_)\n",
    "print('time :{} min'.format(np.round((time.time() - start_time)/60, 2))) \n",
    "\n",
    "filename = dataset_name + '_ExtraTreeRegressor.sav'\n",
    "pickle.dump(gs_etr, open(filename, 'wb'))"
   ]
  },
  {
   "cell_type": "markdown",
   "metadata": {},
   "source": [
    "### 1.5 HRT"
   ]
  },
  {
   "cell_type": "code",
   "execution_count": 7,
   "metadata": {},
   "outputs": [
    {
     "data": {
      "text/plain": [
       "436"
      ]
     },
     "execution_count": 7,
     "metadata": {},
     "output_type": "execute_result"
    }
   ],
   "source": [
    "int(0.05*len(X))"
   ]
  },
  {
   "cell_type": "code",
   "execution_count": 40,
   "metadata": {},
   "outputs": [
    {
     "name": "stdout",
     "output_type": "stream",
     "text": [
      "train MSE: 63887.73 +/- 2060.34\n",
      "CV MSE: 85543.67 +/- 9519.01\n",
      "{'min_node_size': 261, 'min_split_improvement': 10, 'mode': 'Lasso'}\n",
      "time :7.77 min\n"
     ]
    }
   ],
   "source": [
    "start_time = time.time()\n",
    "\n",
    "model = HybridRegressionTree()\n",
    "\n",
    "cv = KFold(n_splits=5, shuffle=True, random_state=42)  # лучше cv = 10\n",
    "\n",
    "param_grid = {\n",
    "    'mode': ['Lasso'],\n",
    "    'min_node_size': [int(p*len(X)) for p in [0.03, 0.1, 0.3]],\n",
    "    'min_split_improvement': [10, 20]\n",
    "}\n",
    "\n",
    "gs_hrt = GridSearchCV(model, param_grid, cv=cv, scoring='neg_mean_squared_error')\n",
    "gs_hrt.fit(X, y.values)\n",
    "\n",
    "train_MSE = (-gs_hrt.cv_results_['mean_train_score'][gs_hrt.cv_results_['rank_test_score'] == 1]).mean()\n",
    "train_std = (gs_hrt.cv_results_['std_train_score'][gs_hrt.cv_results_['rank_test_score'] == 1]).mean()\n",
    "\n",
    "cv_MSE = (-gs_hrt.cv_results_['mean_test_score'][gs_hrt.cv_results_['rank_test_score'] == 1]).mean()\n",
    "cv_std = (gs_hrt.cv_results_['std_test_score'][gs_hrt.cv_results_['rank_test_score'] == 1]).mean()\n",
    "\n",
    "print('train MSE: {} +/- {}'.format(np.round(train_MSE, 2), np.round(train_std, 2)))\n",
    "print('CV MSE: {} +/- {}'.format(np.round(cv_MSE, 2), np.round(cv_std, 2)))\n",
    "print(gs_hrt.best_params_)\n",
    "print('time :{} min'.format(np.round((time.time() - start_time)/60, 2))) \n",
    "\n",
    "filename = dataset_name + '_HybridRegressionTree.sav'\n",
    "pickle.dump(gs_hrt, open(filename, 'wb'))"
   ]
  },
  {
   "cell_type": "code",
   "execution_count": null,
   "metadata": {},
   "outputs": [],
   "source": []
  },
  {
   "cell_type": "code",
   "execution_count": 8,
   "metadata": {},
   "outputs": [
    {
     "name": "stdout",
     "output_type": "stream",
     "text": [
      "FUCK\n",
      "FUCK\n",
      "FUCK\n",
      "FUCK\n",
      "FUCK\n"
     ]
    }
   ],
   "source": [
    "start_time = time.time()\n",
    "\n",
    "min_samples_node_list = [int(0.01*X.shape[0]), int(0.05*X.shape[0]),\\\n",
    "                         int(0.1*X.shape[0]), int(0.2*X.shape[0]), int(0.3*X.shape[0])]\n",
    "min_split_threshold_list = [10, 10, 10, 15, 20, 20]\n",
    "\n",
    "scores_hrt_df = pd.DataFrame(columns=['min_samples_leaf', 'min_impurity_decrease', \n",
    "                     'fold1', 'fold2', 'fold3', 'fold4', 'fold5'])\n",
    "\n",
    "\n",
    "for min_samples_node, min_split_threshold  in zip(min_samples_node_list, min_split_threshold_list):\n",
    "    \n",
    "    hrt = HybridRegressionTree(min_node_size = min_samples_node, \n",
    "                               mode='Lasso', \n",
    "                               min_split_improvement=min_split_threshold)\n",
    "    \n",
    "    kf = KFold(n_splits=5, random_state=42)\n",
    "    scores = []\n",
    "    for train_index, test_index in kf.split(X):\n",
    "        X_train, X_test = X.iloc[train_index], X.iloc[test_index]\n",
    "        y_train, y_test = y[train_index], y[test_index]\n",
    "\n",
    "        hrt.fit(X_train, y_train.values)\n",
    "        y_pred = hrt.predict(X_test)\n",
    "        rmse = np.sqrt(mean_squared_error(y_test, y_pred))\n",
    "        scores.append(rmse)\n",
    "        \n",
    "    scores_hrt_df_tmp = pd.DataFrame([[min_samples_node, min_split_threshold] + scores], \n",
    "                                 columns=['min_samples_leaf', 'min_impurity_decrease', \\\n",
    "                                             'fold1', 'fold2', 'fold3', 'fold4', 'fold5'])\n",
    "    scores_hrt_df = scores_hrt_df.append(scores_hrt_df_tmp)\n",
    "\n",
    "\n",
    "# cv_MSE = (-gs_hrt.cv_results_['mean_test_score'][gs_hrt.cv_results_['rank_test_score'] == 1]).mean()\n",
    "# cv_std = (gs_hrt.cv_results_['std_test_score'][gs_hrt.cv_results_['rank_test_score'] == 1]).mean()\n",
    "\n",
    "# print('train MSE: {} +/- {}'.format(np.round(train_MSE, 2), np.round(train_std, 2)))\n",
    "# print('CV MSE: {} +/- {}'.format(np.round(cv_MSE, 2), np.round(cv_std, 2)))\n",
    "# print(gs_hrt.best_params_)\n",
    "# print('time :{} min'.format(np.round((time.time() - start_time)/60, 2))) \n",
    "\n",
    "# filename = dataset_name + '_HRT.sav'\n",
    "# pickle.dump(gs_hrt, open(filename, 'wb'))"
   ]
  },
  {
   "cell_type": "code",
   "execution_count": 9,
   "metadata": {},
   "outputs": [],
   "source": [
    "scores_hrt_df['RMSE'] = scores_hrt_df[['fold1', 'fold2', 'fold3', 'fold4', 'fold5']].mean(axis = 1).values\n",
    "scores_hrt_df['RMSE_std'] = scores_hrt_df[['fold1', 'fold2', 'fold3', 'fold4', 'fold5']].std(axis = 1).values"
   ]
  },
  {
   "cell_type": "code",
   "execution_count": 10,
   "metadata": {},
   "outputs": [
    {
     "data": {
      "text/html": [
       "<div>\n",
       "<style scoped>\n",
       "    .dataframe tbody tr th:only-of-type {\n",
       "        vertical-align: middle;\n",
       "    }\n",
       "\n",
       "    .dataframe tbody tr th {\n",
       "        vertical-align: top;\n",
       "    }\n",
       "\n",
       "    .dataframe thead th {\n",
       "        text-align: right;\n",
       "    }\n",
       "</style>\n",
       "<table border=\"1\" class=\"dataframe\">\n",
       "  <thead>\n",
       "    <tr style=\"text-align: right;\">\n",
       "      <th></th>\n",
       "      <th>min_samples_leaf</th>\n",
       "      <th>min_impurity_decrease</th>\n",
       "      <th>fold1</th>\n",
       "      <th>fold2</th>\n",
       "      <th>fold3</th>\n",
       "      <th>fold4</th>\n",
       "      <th>fold5</th>\n",
       "      <th>RMSE</th>\n",
       "      <th>RMSE_std</th>\n",
       "    </tr>\n",
       "  </thead>\n",
       "  <tbody>\n",
       "    <tr>\n",
       "      <th>0</th>\n",
       "      <td>87</td>\n",
       "      <td>10</td>\n",
       "      <td>1346.685369</td>\n",
       "      <td>1661.937938</td>\n",
       "      <td>1633.728466</td>\n",
       "      <td>899.004260</td>\n",
       "      <td>2064.193494</td>\n",
       "      <td>1521.109905</td>\n",
       "      <td>431.536387</td>\n",
       "    </tr>\n",
       "    <tr>\n",
       "      <th>0</th>\n",
       "      <td>436</td>\n",
       "      <td>10</td>\n",
       "      <td>686.511463</td>\n",
       "      <td>963.158077</td>\n",
       "      <td>560.069325</td>\n",
       "      <td>497.457725</td>\n",
       "      <td>665.892547</td>\n",
       "      <td>674.617828</td>\n",
       "      <td>178.871550</td>\n",
       "    </tr>\n",
       "    <tr>\n",
       "      <th>0</th>\n",
       "      <td>872</td>\n",
       "      <td>10</td>\n",
       "      <td>488.080476</td>\n",
       "      <td>674.336036</td>\n",
       "      <td>488.798118</td>\n",
       "      <td>402.646439</td>\n",
       "      <td>439.840677</td>\n",
       "      <td>498.740349</td>\n",
       "      <td>104.581950</td>\n",
       "    </tr>\n",
       "    <tr>\n",
       "      <th>0</th>\n",
       "      <td>1745</td>\n",
       "      <td>15</td>\n",
       "      <td>484.134475</td>\n",
       "      <td>779.975666</td>\n",
       "      <td>565.066863</td>\n",
       "      <td>355.443104</td>\n",
       "      <td>313.818649</td>\n",
       "      <td>499.687751</td>\n",
       "      <td>186.031912</td>\n",
       "    </tr>\n",
       "    <tr>\n",
       "      <th>0</th>\n",
       "      <td>2617</td>\n",
       "      <td>20</td>\n",
       "      <td>541.592654</td>\n",
       "      <td>668.912775</td>\n",
       "      <td>617.951539</td>\n",
       "      <td>347.812778</td>\n",
       "      <td>332.574286</td>\n",
       "      <td>501.768806</td>\n",
       "      <td>154.394557</td>\n",
       "    </tr>\n",
       "  </tbody>\n",
       "</table>\n",
       "</div>"
      ],
      "text/plain": [
       "  min_samples_leaf min_impurity_decrease        fold1        fold2  \\\n",
       "0               87                    10  1346.685369  1661.937938   \n",
       "0              436                    10   686.511463   963.158077   \n",
       "0              872                    10   488.080476   674.336036   \n",
       "0             1745                    15   484.134475   779.975666   \n",
       "0             2617                    20   541.592654   668.912775   \n",
       "\n",
       "         fold3       fold4        fold5         RMSE    RMSE_std  \n",
       "0  1633.728466  899.004260  2064.193494  1521.109905  431.536387  \n",
       "0   560.069325  497.457725   665.892547   674.617828  178.871550  \n",
       "0   488.798118  402.646439   439.840677   498.740349  104.581950  \n",
       "0   565.066863  355.443104   313.818649   499.687751  186.031912  \n",
       "0   617.951539  347.812778   332.574286   501.768806  154.394557  "
      ]
     },
     "execution_count": 10,
     "metadata": {},
     "output_type": "execute_result"
    }
   ],
   "source": [
    "scores_hrt_df.head(5)"
   ]
  },
  {
   "cell_type": "code",
   "execution_count": null,
   "metadata": {},
   "outputs": [],
   "source": []
  },
  {
   "cell_type": "code",
   "execution_count": null,
   "metadata": {},
   "outputs": [],
   "source": []
  },
  {
   "cell_type": "code",
   "execution_count": 23,
   "metadata": {},
   "outputs": [],
   "source": [
    "hrt = HybridRegressionTree(mode='Lasso', min_node_size=2617, min_split_improvement=20)"
   ]
  },
  {
   "cell_type": "code",
   "execution_count": null,
   "metadata": {},
   "outputs": [],
   "source": []
  },
  {
   "cell_type": "code",
   "execution_count": 34,
   "metadata": {},
   "outputs": [],
   "source": [
    "def my_cross_validate(X, y, n_splits, hrt_params):\n",
    "    kf = KFold(n_splits=5, random_state=42)\n",
    "\n",
    "    hrt = HybridRegressionTree(**hrt_params)\n",
    "    \n",
    "    test_score = []\n",
    "    fit_time = []\n",
    "    \n",
    "    for train_index, test_index in kf.split(X):\n",
    "        print('ok')\n",
    "        X_train, X_test = X.iloc[train_index], X.iloc[test_index]\n",
    "        y_train, y_test = y[train_index], y[test_index]\n",
    "\n",
    "        t = time.time()\n",
    "        hrt.fit(X_train, y_train.values)\n",
    "        fit_time.append(time.time() - t)\n",
    "        \n",
    "        y_pred = hrt.predict(X_test)\n",
    "        test_score.append(np.sqrt(mean_squared_error(y_test, y_pred)))\n",
    "        \n",
    "    return dict(test_score=test_score, fit_time=fit_time)"
   ]
  },
  {
   "cell_type": "code",
   "execution_count": 35,
   "metadata": {
    "scrolled": true
   },
   "outputs": [
    {
     "name": "stdout",
     "output_type": "stream",
     "text": [
      "ok\n",
      "ok\n",
      "ok\n",
      "ok\n",
      "ok\n"
     ]
    },
    {
     "data": {
      "text/plain": [
       "{'fit_time': [1.6087064743041992,\n",
       "  1.5249207019805908,\n",
       "  1.570798397064209,\n",
       "  1.7403302192687988,\n",
       "  1.4650819301605225],\n",
       " 'test_score': [541.5926539554376,\n",
       "  668.9127750283317,\n",
       "  617.9515387342875,\n",
       "  347.81277808778134,\n",
       "  332.5742863245551]}"
      ]
     },
     "execution_count": 35,
     "metadata": {},
     "output_type": "execute_result"
    }
   ],
   "source": [
    "my_cross_validate(X, y, 5, dict(mode='Lasso', min_node_size=2617, min_split_improvement=20))"
   ]
  },
  {
   "cell_type": "code",
   "execution_count": null,
   "metadata": {},
   "outputs": [],
   "source": []
  },
  {
   "cell_type": "code",
   "execution_count": 31,
   "metadata": {},
   "outputs": [],
   "source": [
    "start_time = time.time()\n",
    "\n",
    "min_samples_node_list = [int(0.01*X.shape[0]), int(0.05*X.shape[0]),\\\n",
    "                         int(0.1*X.shape[0]), int(0.2*X.shape[0]), int(0.3*X.shape[0])]\n",
    "min_split_threshold_list = [10, 10, 10, 15, 20, 20]\n",
    "\n",
    "scores_hrt_df = pd.DataFrame(columns=['min_samples_leaf', 'min_impurity_decrease', \n",
    "                     'fold1', 'fold2', 'fold3', 'fold4', 'fold5'])\n",
    "\n",
    "\n",
    "# for min_samples_node, min_split_threshold  in zip(min_samples_node_list, min_split_threshold_list):\n",
    "for min_samples_node, min_split_threshold  in zip([2617], [20]):\n",
    "    \n",
    "    hrt = HybridRegressionTree(min_node_size = min_samples_node, \n",
    "                               mode='Lasso', \n",
    "                               min_split_improvement=min_split_threshold)\n",
    "    \n",
    "    kf = KFold(n_splits=5, random_state=42)\n",
    "    scores = []\n",
    "    for train_index, test_index in kf.split(X):\n",
    "        X_train, X_test = X.iloc[train_index], X.iloc[test_index]\n",
    "        y_train, y_test = y[train_index], y[test_index]\n",
    "\n",
    "        hrt.fit(X_train, y_train.values)\n",
    "        y_pred = hrt.predict(X_test)\n",
    "        rmse = np.sqrt(mean_squared_error(y_test, y_pred))\n",
    "        scores.append(rmse)\n",
    "        \n",
    "    scores_hrt_df_tmp = pd.DataFrame([[min_samples_node, min_split_threshold] + scores], \n",
    "                                 columns=['min_samples_leaf', 'min_impurity_decrease', \\\n",
    "                                             'fold1', 'fold2', 'fold3', 'fold4', 'fold5'])\n",
    "    scores_hrt_df = scores_hrt_df.append(scores_hrt_df_tmp)\n",
    "\n",
    "\n",
    "# cv_MSE = (-gs_hrt.cv_results_['mean_test_score'][gs_hrt.cv_results_['rank_test_score'] == 1]).mean()\n",
    "# cv_std = (gs_hrt.cv_results_['std_test_score'][gs_hrt.cv_results_['rank_test_score'] == 1]).mean()\n",
    "\n",
    "# print('train MSE: {} +/- {}'.format(np.round(train_MSE, 2), np.round(train_std, 2)))\n",
    "# print('CV MSE: {} +/- {}'.format(np.round(cv_MSE, 2), np.round(cv_std, 2)))\n",
    "# print(gs_hrt.best_params_)\n",
    "# print('time :{} min'.format(np.round((time.time() - start_time)/60, 2))) \n",
    "\n",
    "# filename = dataset_name + '_HRT.sav'\n",
    "# pickle.dump(gs_hrt, open(filename, 'wb'))"
   ]
  },
  {
   "cell_type": "code",
   "execution_count": 32,
   "metadata": {},
   "outputs": [],
   "source": [
    "scores_hrt_df['RMSE'] = scores_hrt_df[['fold1', 'fold2', 'fold3', 'fold4', 'fold5']].mean(axis = 1).values\n",
    "scores_hrt_df['RMSE_std'] = scores_hrt_df[['fold1', 'fold2', 'fold3', 'fold4', 'fold5']].std(axis = 1).values"
   ]
  },
  {
   "cell_type": "code",
   "execution_count": 33,
   "metadata": {},
   "outputs": [
    {
     "data": {
      "text/html": [
       "<div>\n",
       "<style scoped>\n",
       "    .dataframe tbody tr th:only-of-type {\n",
       "        vertical-align: middle;\n",
       "    }\n",
       "\n",
       "    .dataframe tbody tr th {\n",
       "        vertical-align: top;\n",
       "    }\n",
       "\n",
       "    .dataframe thead th {\n",
       "        text-align: right;\n",
       "    }\n",
       "</style>\n",
       "<table border=\"1\" class=\"dataframe\">\n",
       "  <thead>\n",
       "    <tr style=\"text-align: right;\">\n",
       "      <th></th>\n",
       "      <th>min_samples_leaf</th>\n",
       "      <th>min_impurity_decrease</th>\n",
       "      <th>fold1</th>\n",
       "      <th>fold2</th>\n",
       "      <th>fold3</th>\n",
       "      <th>fold4</th>\n",
       "      <th>fold5</th>\n",
       "      <th>RMSE</th>\n",
       "      <th>RMSE_std</th>\n",
       "    </tr>\n",
       "  </thead>\n",
       "  <tbody>\n",
       "    <tr>\n",
       "      <th>0</th>\n",
       "      <td>2617</td>\n",
       "      <td>20</td>\n",
       "      <td>541.592654</td>\n",
       "      <td>668.912775</td>\n",
       "      <td>617.951539</td>\n",
       "      <td>347.812778</td>\n",
       "      <td>332.574286</td>\n",
       "      <td>501.768806</td>\n",
       "      <td>154.394557</td>\n",
       "    </tr>\n",
       "  </tbody>\n",
       "</table>\n",
       "</div>"
      ],
      "text/plain": [
       "  min_samples_leaf min_impurity_decrease       fold1       fold2       fold3  \\\n",
       "0             2617                    20  541.592654  668.912775  617.951539   \n",
       "\n",
       "        fold4       fold5        RMSE    RMSE_std  \n",
       "0  347.812778  332.574286  501.768806  154.394557  "
      ]
     },
     "execution_count": 33,
     "metadata": {},
     "output_type": "execute_result"
    }
   ],
   "source": [
    "scores_hrt_df.head(5)"
   ]
  },
  {
   "cell_type": "markdown",
   "metadata": {},
   "source": [
    "871; 10"
   ]
  },
  {
   "cell_type": "markdown",
   "metadata": {},
   "source": [
    "### 1.6 HRT Bagging"
   ]
  },
  {
   "cell_type": "code",
   "execution_count": 30,
   "metadata": {},
   "outputs": [],
   "source": [
    "def bootstrap(X, y):\n",
    "    \n",
    "    size = X.shape[0]\n",
    "    idx_range = range(size)\n",
    "    new_idx = np.random.choice(idx_range, size, replace=True)\n",
    "    return X.iloc[new_idx], y.iloc[new_idx]"
   ]
  },
  {
   "cell_type": "code",
   "execution_count": 31,
   "metadata": {},
   "outputs": [],
   "source": [
    "start_time = time.time()\n",
    "\n",
    "min_samples_node_list = [int(0.05*X.shape[0]), int(0.1*X.shape[0]),\\\n",
    "                         int(0.1*X.shape[0]), int(0.1*X.shape[0]), int(0.2*X.shape[0])]\n",
    "min_split_threshold_list = [15, 15, 15, 15, 15, 15]\n",
    "n_estimators_list = [3, 4, 5, 6, 7, 3]\n",
    "\n",
    "scores_bag_hrt_df = pd.DataFrame(columns=['n_estimators', 'min_samples_leaf', 'min_impurity_decrease', \n",
    "                     'fold1', 'fold2', 'fold3', 'fold4', 'fold5'])\n",
    "\n",
    "\n",
    "for min_samples_node, min_split_threshold, n_estimators  in zip(min_samples_node_list, \n",
    "                                                                  min_split_threshold_list,\n",
    "                                                                  n_estimators_list):\n",
    "\n",
    "    \n",
    "    trees = []\n",
    "    for i in range(n_estimators):\n",
    "        trees.append(HybridRegressionTree(min_node_size = min_samples_node, \n",
    "                                          mode='Lasso', \n",
    "                                          min_split_improvement=min_split_threshold)\n",
    "                    )\n",
    "    \n",
    "    kf = KFold(n_splits=5, random_state=42)\n",
    "    scores = []\n",
    "    for train_index, test_index in kf.split(X):\n",
    "        \n",
    "        X_train, X_test = X.iloc[train_index], X.iloc[test_index]\n",
    "        y_train, y_test = y[train_index], y[test_index]\n",
    "        y_pred = np.zeros(len(test_index))\n",
    "        \n",
    "        for i in range(n_estimators):\n",
    "\n",
    "            X_train_new, y_train_new = bootstrap(X_train, y_train)\n",
    "            trees[i].fit(X_train_new.values, X_train_new, y_train_new.values)\n",
    "            y_pred = y_pred + trees[i].predict(X_test.values, X_test)\n",
    "        y_pred = y_pred / n_estimators   # averaging\n",
    "        rmse = np.sqrt(mean_squared_error(y_test, y_pred))\n",
    "        scores.append(rmse)\n",
    "        \n",
    "    scores_bag_hrt_df_tmp = pd.DataFrame([[n_estimators, min_samples_node, min_split_threshold] + scores], \n",
    "                                 columns=['n_estimators' ,'min_samples_leaf', 'min_impurity_decrease', \\\n",
    "                                             'fold1', 'fold2', 'fold3', 'fold4', 'fold5'])\n",
    "    scores_bag_hrt_df = scores_bag_hrt_df.append(scores_bag_hrt_df_tmp)\n",
    "\n",
    "\n",
    "# cv_MSE = (-gs_hrt.cv_results_['mean_test_score'][gs_hrt.cv_results_['rank_test_score'] == 1]).mean()\n",
    "# cv_std = (gs_hrt.cv_results_['std_test_score'][gs_hrt.cv_results_['rank_test_score'] == 1]).mean()\n",
    "\n",
    "# print('train MSE: {} +/- {}'.format(np.round(train_MSE, 2), np.round(train_std, 2)))\n",
    "# print('CV MSE: {} +/- {}'.format(np.round(cv_MSE, 2), np.round(cv_std, 2)))\n",
    "# print(gs_hrt.best_params_)\n",
    "# print('time :{} min'.format(np.round((time.time() - start_time)/60, 2))) \n",
    "\n",
    "# filename = dataset_name + '_HRT.sav'\n",
    "# pickle.dump(gs_hrt, open(filename, 'wb'))"
   ]
  },
  {
   "cell_type": "code",
   "execution_count": 32,
   "metadata": {},
   "outputs": [],
   "source": [
    "scores_bag_hrt_df['RMSE'] = scores_bag_hrt_df[['fold1', 'fold2', 'fold3', 'fold4', 'fold5']].mean(axis = 1).values\n",
    "scores_bag_hrt_df['RMSE_std'] = scores_bag_hrt_df[['fold1', 'fold2', 'fold3', 'fold4', 'fold5']].std(axis = 1).values"
   ]
  },
  {
   "cell_type": "code",
   "execution_count": 33,
   "metadata": {},
   "outputs": [
    {
     "data": {
      "text/html": [
       "<div>\n",
       "<style scoped>\n",
       "    .dataframe tbody tr th:only-of-type {\n",
       "        vertical-align: middle;\n",
       "    }\n",
       "\n",
       "    .dataframe tbody tr th {\n",
       "        vertical-align: top;\n",
       "    }\n",
       "\n",
       "    .dataframe thead th {\n",
       "        text-align: right;\n",
       "    }\n",
       "</style>\n",
       "<table border=\"1\" class=\"dataframe\">\n",
       "  <thead>\n",
       "    <tr style=\"text-align: right;\">\n",
       "      <th></th>\n",
       "      <th>n_estimators</th>\n",
       "      <th>min_samples_leaf</th>\n",
       "      <th>min_impurity_decrease</th>\n",
       "      <th>fold1</th>\n",
       "      <th>fold2</th>\n",
       "      <th>fold3</th>\n",
       "      <th>fold4</th>\n",
       "      <th>fold5</th>\n",
       "      <th>RMSE</th>\n",
       "      <th>RMSE_std</th>\n",
       "    </tr>\n",
       "  </thead>\n",
       "  <tbody>\n",
       "    <tr>\n",
       "      <th>0</th>\n",
       "      <td>3</td>\n",
       "      <td>436</td>\n",
       "      <td>15</td>\n",
       "      <td>516.536661</td>\n",
       "      <td>700.244914</td>\n",
       "      <td>562.947017</td>\n",
       "      <td>434.855131</td>\n",
       "      <td>583.612211</td>\n",
       "      <td>559.639187</td>\n",
       "      <td>97.191186</td>\n",
       "    </tr>\n",
       "    <tr>\n",
       "      <th>0</th>\n",
       "      <td>4</td>\n",
       "      <td>872</td>\n",
       "      <td>15</td>\n",
       "      <td>502.108814</td>\n",
       "      <td>517.501140</td>\n",
       "      <td>466.877963</td>\n",
       "      <td>366.126287</td>\n",
       "      <td>410.895217</td>\n",
       "      <td>452.701884</td>\n",
       "      <td>63.411515</td>\n",
       "    </tr>\n",
       "    <tr>\n",
       "      <th>0</th>\n",
       "      <td>5</td>\n",
       "      <td>872</td>\n",
       "      <td>15</td>\n",
       "      <td>521.772450</td>\n",
       "      <td>516.819554</td>\n",
       "      <td>473.069446</td>\n",
       "      <td>358.844905</td>\n",
       "      <td>406.402777</td>\n",
       "      <td>455.381827</td>\n",
       "      <td>71.087069</td>\n",
       "    </tr>\n",
       "    <tr>\n",
       "      <th>0</th>\n",
       "      <td>6</td>\n",
       "      <td>872</td>\n",
       "      <td>15</td>\n",
       "      <td>485.671133</td>\n",
       "      <td>517.915946</td>\n",
       "      <td>480.255344</td>\n",
       "      <td>366.409602</td>\n",
       "      <td>385.804735</td>\n",
       "      <td>447.211352</td>\n",
       "      <td>66.839164</td>\n",
       "    </tr>\n",
       "    <tr>\n",
       "      <th>0</th>\n",
       "      <td>7</td>\n",
       "      <td>1745</td>\n",
       "      <td>15</td>\n",
       "      <td>520.318362</td>\n",
       "      <td>666.298226</td>\n",
       "      <td>556.877028</td>\n",
       "      <td>355.188404</td>\n",
       "      <td>351.960389</td>\n",
       "      <td>490.128482</td>\n",
       "      <td>135.740398</td>\n",
       "    </tr>\n",
       "  </tbody>\n",
       "</table>\n",
       "</div>"
      ],
      "text/plain": [
       "  n_estimators min_samples_leaf min_impurity_decrease       fold1       fold2  \\\n",
       "0            3              436                    15  516.536661  700.244914   \n",
       "0            4              872                    15  502.108814  517.501140   \n",
       "0            5              872                    15  521.772450  516.819554   \n",
       "0            6              872                    15  485.671133  517.915946   \n",
       "0            7             1745                    15  520.318362  666.298226   \n",
       "\n",
       "        fold3       fold4       fold5        RMSE    RMSE_std  \n",
       "0  562.947017  434.855131  583.612211  559.639187   97.191186  \n",
       "0  466.877963  366.126287  410.895217  452.701884   63.411515  \n",
       "0  473.069446  358.844905  406.402777  455.381827   71.087069  \n",
       "0  480.255344  366.409602  385.804735  447.211352   66.839164  \n",
       "0  556.877028  355.188404  351.960389  490.128482  135.740398  "
      ]
     },
     "execution_count": 33,
     "metadata": {},
     "output_type": "execute_result"
    }
   ],
   "source": [
    "scores_bag_hrt_df"
   ]
  },
  {
   "cell_type": "markdown",
   "metadata": {},
   "source": [
    "6; 872; 15"
   ]
  },
  {
   "cell_type": "markdown",
   "metadata": {},
   "source": [
    "### 1.7 HRT Random Subsample Method"
   ]
  },
  {
   "cell_type": "code",
   "execution_count": null,
   "metadata": {},
   "outputs": [],
   "source": []
  },
  {
   "cell_type": "markdown",
   "metadata": {},
   "source": [
    "## 1. Learning curves "
   ]
  },
  {
   "cell_type": "code",
   "execution_count": 56,
   "metadata": {},
   "outputs": [],
   "source": [
    "def plot_learning_curve(estimators, labels, colors,\n",
    "                        title, \n",
    "                        X, y, \n",
    "                        ylim=None, \n",
    "                        cv=None, scoring = 'neg_mean_squared_error',\n",
    "                        n_jobs=None, \n",
    "                        train_sizes=np.linspace(.4, 1.0, 5)):\n",
    "    \"\"\"\n",
    "    Generate a simple plot of the test and training learning curve.\n",
    "\n",
    "    Parameters\n",
    "    ----------\n",
    "    estimators : list, objectS type that implements the \"fit\" and \"predict\" methods\n",
    "        An object of that type which is cloned for each validation.\n",
    "\n",
    "    title : string\n",
    "        Title for the chart.\n",
    "\n",
    "    X : array-like, shape (n_samples, n_features)\n",
    "        Training vector, where n_samples is the number of samples and\n",
    "        n_features is the number of features.\n",
    "\n",
    "    y : array-like, shape (n_samples) or (n_samples, n_features), optional\n",
    "        Target relative to X for classification or regression;\n",
    "        None for unsupervised learning.\n",
    "\n",
    "    ylim : tuple, shape (ymin, ymax), optional\n",
    "        Defines minimum and maximum yvalues plotted.\n",
    "\n",
    "    cv : int, cross-validation generator or an iterable, optional\n",
    "        Determines the cross-validation splitting strategy.\n",
    "        Possible inputs for cv are:\n",
    "          - None, to use the default 3-fold cross-validation,\n",
    "          - integer, to specify the number of folds.\n",
    "          - :term:`CV splitter`,\n",
    "          - An iterable yielding (train, test) splits as arrays of indices.\n",
    "\n",
    "        For integer/None inputs, if ``y`` is binary or multiclass,\n",
    "        :class:`StratifiedKFold` used. If the estimator is not a classifier\n",
    "        or if ``y`` is neither binary nor multiclass, :class:`KFold` is used.\n",
    "\n",
    "        Refer :ref:`User Guide <cross_validation>` for the various\n",
    "        cross-validators that can be used here.\n",
    "\n",
    "    n_jobs : int or None, optional (default=None)\n",
    "        Number of jobs to run in parallel.\n",
    "        ``None`` means 1 unless in a :obj:`joblib.parallel_backend` context.\n",
    "        ``-1`` means using all processors. See :term:`Glossary <n_jobs>`\n",
    "        for more details.\n",
    "\n",
    "    train_sizes : array-like, shape (n_ticks,), dtype float or int\n",
    "        Relative or absolute numbers of training examples that will be used to\n",
    "        generate the learning curve. If the dtype is float, it is regarded as a\n",
    "        fraction of the maximum size of the training set (that is determined\n",
    "        by the selected validation method), i.e. it has to be within (0, 1].\n",
    "        Otherwise it is interpreted as absolute sizes of the training sets.\n",
    "        Note that for classification the number of samples usually have to\n",
    "        be big enough to contain at least one sample from each class.\n",
    "        (default: np.linspace(0.1, 1.0, 5))\n",
    "    \"\"\"\n",
    "    plt.figure(figsize = (10, 6))\n",
    "    plt.title(title, fontsize = 16)\n",
    "    if ylim is not None:\n",
    "        plt.ylim(*ylim)\n",
    "    plt.xlabel(\"Training size\", fontsize = 14)\n",
    "    plt.ylabel(\"Negative RMSE\", fontsize = 14)\n",
    "    plt.grid()\n",
    "    \n",
    "    for estimator, label, color in zip(estimators, labels, colors):\n",
    "        train_sizes, train_scores, test_scores = learning_curve(\n",
    "            estimator, X, y, \n",
    "            cv=cv, scoring = scoring, \n",
    "            n_jobs=n_jobs, train_sizes=train_sizes)\n",
    "    \n",
    "        test_scores_mean = np.mean(test_scores, axis=1)\n",
    "        test_scores_std = np.std(test_scores, axis=1)\n",
    "        \n",
    "        plt.plot(np.round(train_sizes/X.shape[0], 1), test_scores_mean, 'o-', color= color,\n",
    "             label = label)\n",
    "    \n",
    "        plt.fill_between(np.round(train_sizes/X.shape[0], 1), test_scores_mean - test_scores_std,\n",
    "                         test_scores_mean + test_scores_std, alpha=0.1, color=color)\n",
    "    \n",
    "\n",
    "    plt.legend(loc=\"upper right\", fontsize = 12)\n",
    "    return plt"
   ]
  },
  {
   "cell_type": "code",
   "execution_count": 57,
   "metadata": {},
   "outputs": [],
   "source": [
    "def rmse(y_true, y_pred): \n",
    "    return np.sqrt(mean_squared_error(y_true, y_pred))"
   ]
  },
  {
   "cell_type": "code",
   "execution_count": 58,
   "metadata": {},
   "outputs": [
    {
     "name": "stdout",
     "output_type": "stream",
     "text": [
      "GridSearchCV\n",
      "GridSearchCV\n",
      "GridSearchCV\n",
      "GridSearchCV\n",
      "GridSearchCV\n"
     ]
    },
    {
     "data": {
      "text/plain": [
       "<module 'matplotlib.pyplot' from 'C:\\\\Users\\\\mskuz\\\\Anaconda3\\\\lib\\\\site-packages\\\\matplotlib\\\\pyplot.py'>"
      ]
     },
     "execution_count": 58,
     "metadata": {},
     "output_type": "execute_result"
    },
    {
     "data": {
      "image/png": "[encoded data removed]",
      "text/plain": [
       "<matplotlib.figure.Figure at 0x1f043193be0>"
      ]
     },
     "metadata": {},
     "output_type": "display_data"
    }
   ],
   "source": [
    "title = \"Learning Curves for best parameters, PIK dataset\"\n",
    "# Cross validation with 100 iterations to get smoother mean test and train\n",
    "# score curves, each time with 20% data randomly selected as a validation set.\n",
    "# cv = train_test_split(X, y, test_size=0.3, random_state=42, shuffle = True)\n",
    "cv = KFold(n_splits = 3, shuffle = True, random_state = 42)\n",
    "\n",
    "scoring = make_scorer(rmse)\n",
    "\n",
    "estimators = [gs_lasso, gs_tree, gs_rf, gs_etr, hrt_etr]\n",
    "labels = ['Lasso', 'Decision Tree', 'Random Forest', 'Extremely randomised RF', 'HybridRegressionTree']\n",
    "colors = ['red', 'green', 'blue', 'orange', 'purple']\n",
    "\n",
    "plot_learning_curve(estimators, labels, colors, title, X, y.values, ylim=(150, 1100), cv=cv, scoring = scoring, n_jobs=1)\n",
    "\n",
    "# Unfortunately 'learning_curve' function does not support non-sklearn like estimators. \n",
    "# So, we will add our methods to the plot manually"
   ]
  },
  {
   "cell_type": "markdown",
   "metadata": {},
   "source": [
    "### Estimation time"
   ]
  },
  {
   "cell_type": "code",
   "execution_count": 62,
   "metadata": {},
   "outputs": [],
   "source": [
    "def plot_training_time(estimators, labels, colors,\n",
    "                        title, \n",
    "                        X, y, \n",
    "                        ylim=None, \n",
    "                        n_jobs=None, \n",
    "                        train_sizes=np.linspace(.4, 1.0, 5)):\n",
    "    \"\"\"\n",
    "    Generate a simple plot of the test and training learning curve.\n",
    "\n",
    "    Parameters\n",
    "    ----------\n",
    "    estimators : list, objectS type that implements the \"fit\" and \"predict\" methods\n",
    "        An object of that type which is cloned for each validation.\n",
    "\n",
    "    title : string\n",
    "        Title for the chart.\n",
    "\n",
    "    X : array-like, shape (n_samples, n_features)\n",
    "        Training vector, where n_samples is the number of samples and\n",
    "        n_features is the number of features.\n",
    "\n",
    "    y : array-like, shape (n_samples) or (n_samples, n_features), optional\n",
    "        Target relative to X for classification or regression;\n",
    "        None for unsupervised learning.\n",
    "\n",
    "    ylim : tuple, shape (ymin, ymax), optional\n",
    "        Defines minimum and maximum yvalues plotted.\n",
    "\n",
    "    n_jobs : int or None, optional (default=None)\n",
    "        Number of jobs to run in parallel.\n",
    "        ``None`` means 1 unless in a :obj:`joblib.parallel_backend` context.\n",
    "        ``-1`` means using all processors. See :term:`Glossary <n_jobs>`\n",
    "        for more details.\n",
    "\n",
    "    train_sizes : array-like, shape (n_ticks,), dtype float or int\n",
    "        Relative or absolute numbers of training examples that will be used to\n",
    "        generate the learning curve. If the dtype is float, it is regarded as a\n",
    "        fraction of the maximum size of the training set (that is determined\n",
    "        by the selected validation method), i.e. it has to be within (0, 1].\n",
    "        Otherwise it is interpreted as absolute sizes of the training sets.\n",
    "        Note that for classification the number of samples usually have to\n",
    "        be big enough to contain at least one sample from each class.\n",
    "        (default: np.linspace(0.1, 1.0, 5))\n",
    "    \"\"\"\n",
    "    \n",
    "    plt.figure(figsize = (10, 6))\n",
    "    plt.title(title, fontsize = 16)\n",
    "    if ylim is not None:\n",
    "        plt.ylim(*ylim)\n",
    "    plt.yscale(\"log\")\n",
    "    plt.xlabel(\"Train size\", fontsize = 14)\n",
    "    plt.ylabel(\"Time (seconds), log scale\", fontsize = 14)\n",
    "    plt.title(title, fontsize = 16)\n",
    "    plt.grid()\n",
    "\n",
    "    for label, estimator, color in zip(labels, estimators, colors):\n",
    "        train_time = []\n",
    "        test_time = []\n",
    "        for size in train_sizes:\n",
    "            \n",
    "            size = int(size * len(X))\n",
    "            t0 = time.time()\n",
    "            estimator.fit(X[:size], y[:size])\n",
    "            train_time.append(time.time() - t0)\n",
    "\n",
    "        plt.plot(train_sizes*X.shape[0], train_time, 'o-', color=color, label=label)\n",
    "\n",
    "\n",
    "    plt.legend(loc='lower right', fontsize = 12)\n",
    "    \n",
    "    return plt"
   ]
  },
  {
   "cell_type": "code",
   "execution_count": 64,
   "metadata": {},
   "outputs": [
    {
     "data": {
      "text/plain": [
       "<module 'matplotlib.pyplot' from 'C:\\\\Users\\\\mskuz\\\\Anaconda3\\\\lib\\\\site-packages\\\\matplotlib\\\\pyplot.py'>"
      ]
     },
     "execution_count": 64,
     "metadata": {},
     "output_type": "execute_result"
    },
    {
     "data": {
      "image/png": "[encoded data removed]",
      "text/plain": [
       "<matplotlib.figure.Figure at 0x1f04329dda0>"
      ]
     },
     "metadata": {},
     "output_type": "display_data"
    }
   ],
   "source": [
    "title = \"Training Time for best parameters, PIK dataset\"\n",
    "estimators = [gs_lasso, gs_tree, gs_rf, gs_etr, hrt_etr]\n",
    "labels = ['Lasso', 'Decision Tree', 'Random Forest', 'Extremely randomised RF', 'HybridRegressionTree']\n",
    "colors = ['red', 'green', 'blue', 'orange', 'purple']\n",
    "\n",
    "plot_training_time(estimators, labels, colors, title, X, y.values, n_jobs=1)"
   ]
  },
  {
   "cell_type": "markdown",
   "metadata": {},
   "source": [
    "Никита с тебя 995 в кафе!)"
   ]
  }
 ],
 "metadata": {
  "kernelspec": {
   "display_name": "Python 3",
   "language": "python",
   "name": "python3"
  },
  "language_info": {
   "codemirror_mode": {
    "name": "ipython",
    "version": 3
   },
   "file_extension": ".py",
   "mimetype": "text/x-python",
   "name": "python",
   "nbconvert_exporter": "python",
   "pygments_lexer": "ipython3",
   "version": "3.6.4"
  }
 },
 "nbformat": 4,
 "nbformat_minor": 2
}
